{
 "cells": [
  {
   "cell_type": "code",
   "execution_count": 2,
   "metadata": {},
   "outputs": [],
   "source": [
    "# library imports\n",
    "# imagedatagenerator is used to augment the data\n",
    "from keras.preprocessing.image import ImageDataGenerator\n",
    "from tensorflow.keras.preprocessing.image import img_to_array, load_img, array_to_img\n"
   ]
  },
  {
   "cell_type": "code",
   "execution_count": 3,
   "metadata": {},
   "outputs": [
    {
     "name": "stdout",
     "output_type": "stream",
     "text": [
      "Type: <class 'PIL.JpegImagePlugin.JpegImageFile'>\n",
      "Shape: (768, 577) \n",
      "\n",
      "Type: <class 'numpy.ndarray'> \n",
      "\n",
      "Reshape: (1, 577, 768, 3)\n"
     ]
    }
   ],
   "source": [
    "img = load_img(\"./data/car1.jpg\")\n",
    "\n",
    "\"\"\"\n",
    "1. (100,100,3) is the shape of the image\n",
    "2. PIL to numpy array format\n",
    "3. (1,100,100,3) is the shape of the image\n",
    "\"\"\"\n",
    "\n",
    "print(f\"Type: {type(img)}\")\n",
    "print(f\"Shape: {img.size} \\n\")\n",
    "\n",
    "img_array = img_to_array(img)\n",
    "print(f\"Type: {type(img_array)} \\n\")\n",
    "\n",
    "reshaped_img = img_array.reshape((1,) + img_array.shape)\n",
    "print(f\"Reshape: {reshaped_img.shape}\")"
   ]
  },
  {
   "cell_type": "code",
   "execution_count": 4,
   "metadata": {},
   "outputs": [],
   "source": [
    "dataGenerator = ImageDataGenerator(\n",
    "    rotation_range=40,\n",
    "    width_shift_range=0.2,\n",
    "    height_shift_range=0.2,\n",
    "    shear_range=0.2,\n",
    "    zoom_range=0.2,\n",
    "    horizontal_flip=True,\n",
    "    fill_mode=\"nearest\",\n",
    ")"
   ]
  },
  {
   "cell_type": "code",
   "execution_count": 5,
   "metadata": {},
   "outputs": [
    {
     "name": "stdout",
     "output_type": "stream",
     "text": [
      "Saving image: 0\n",
      "Saving image: 1\n",
      "Saving image: 2\n",
      "Saving image: 3\n",
      "Saving image: 4\n",
      "Saving image: 5\n",
      "Saving image: 6\n",
      "Saving image: 7\n",
      "Saving image: 8\n",
      "Saving image: 9\n",
      "Saving image: 10\n",
      "Saving image: 11\n",
      "Saving image: 12\n",
      "Saving image: 13\n",
      "Saving image: 14\n",
      "Saving image: 15\n",
      "Saving image: 16\n",
      "Saving image: 17\n",
      "Saving image: 18\n",
      "Saving image: 19\n",
      "Saving image: 20\n",
      "Saving image: 21\n",
      "Saving image: 22\n",
      "Saving image: 23\n",
      "Saving image: 24\n",
      "Saving image: 25\n",
      "Saving image: 26\n",
      "Saving image: 27\n",
      "Saving image: 28\n",
      "Saving image: 29\n",
      "Saving image: 30\n",
      "Saving image: 31\n",
      "Saving image: 32\n",
      "Saving image: 33\n",
      "Saving image: 34\n",
      "Saving image: 35\n",
      "Saving image: 36\n",
      "Saving image: 37\n",
      "Saving image: 38\n",
      "Saving image: 39\n",
      "Saving image: 40\n"
     ]
    }
   ],
   "source": [
    "for i, batch in enumerate(dataGenerator.flow(reshaped_img, batch_size=1)):\n",
    "    if i > 40:\n",
    "        break\n",
    "    img = array_to_img(batch[0])\n",
    "    img.save(f\"./data/augmented_dataset/car1_{i}.jpg\")\n",
    "    print(f\"Saving image: {i}\")"
   ]
  },
  {
   "cell_type": "code",
   "execution_count": null,
   "metadata": {},
   "outputs": [],
   "source": []
  }
 ],
 "metadata": {
  "kernelspec": {
   "display_name": "base",
   "language": "python",
   "name": "python3"
  },
  "language_info": {
   "codemirror_mode": {
    "name": "ipython",
    "version": 3
   },
   "file_extension": ".py",
   "mimetype": "text/x-python",
   "name": "python",
   "nbconvert_exporter": "python",
   "pygments_lexer": "ipython3",
   "version": "3.10.13"
  }
 },
 "nbformat": 4,
 "nbformat_minor": 2
}
