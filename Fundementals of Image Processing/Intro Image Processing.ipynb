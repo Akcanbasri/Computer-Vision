{
 "cells": [
  {
   "cell_type": "code",
   "execution_count": 2,
   "metadata": {},
   "outputs": [],
   "source": [
    "# libraries\n",
    "import numpy as np\n",
    "import cv2 as cv"
   ]
  },
  {
   "cell_type": "code",
   "execution_count": 6,
   "metadata": {},
   "outputs": [],
   "source": [
    "# reading, saving and displaying images\n",
    "img = cv.imread('./data/car1.jpg', cv.IMREAD_COLOR)\n",
    "\n",
    "cv.imwrite('./data/car1_copy.jpg', img)\n",
    "\n",
    "cv.imshow('image', img)\n",
    "cv.waitKey(0)\n",
    "cv.destroyAllWindows()"
   ]
  },
  {
   "cell_type": "code",
   "execution_count": 17,
   "metadata": {},
   "outputs": [
    {
     "name": "stdout",
     "output_type": "stream",
     "text": [
      "img shape: (168, 300, 3)\n",
      "resized_img shape: (500, 500, 3)\n"
     ]
    }
   ],
   "source": [
    "# scaling images\n",
    "img = cv.imread(\"./data/car2.jpeg\", cv.IMREAD_COLOR)\n",
    "\n",
    "resized_img = cv.resize(img, (500, 500))\n",
    "\n",
    "print(f\"img shape: {img.shape}\")\n",
    "print(f\"resized_img shape: {resized_img.shape}\")\n",
    "\n",
    "cv.imshow(\"image\", img)\n",
    "cv.imshow(\"resized image\", resized_img)\n",
    "cv.waitKey(0)\n",
    "cv.destroyAllWindows()"
   ]
  },
  {
   "cell_type": "code",
   "execution_count": 24,
   "metadata": {},
   "outputs": [],
   "source": [
    "# ROI (region of interest)\n",
    "\n",
    "img = cv.imread(\"./data/car1.jpg\", cv.IMREAD_COLOR)\n",
    "headlights = img[0:160, 50:300]\n",
    "\n",
    "\n",
    "cv.imshow(\"image\", img)\n",
    "cv.imshow(\"headlights\", headlights)\n",
    "cv.waitKey(0)\n",
    "cv.destroyAllWindows()"
   ]
  },
  {
   "cell_type": "code",
   "execution_count": 14,
   "metadata": {},
   "outputs": [
    {
     "name": "stdout",
     "output_type": "stream",
     "text": [
      "original image shape: (577, 768, 3)\n",
      "Gray scaler image shape: (577, 768)\n",
      "HSV image shape: (577, 768, 3)\n",
      "RGB image shape: (577, 768, 3)\n"
     ]
    }
   ],
   "source": [
    "# color spaces\n",
    "img = cv.imread(\"./data/car1_copy.jpg\", cv.IMREAD_COLOR)\n",
    "print(f\"original image shape: {img.shape}\")\n",
    "\n",
    "gray = cv.cvtColor(img, cv.COLOR_BGR2GRAY)\n",
    "cv.imshow(\"gray\", gray)\n",
    "cv.waitKey(0)\n",
    "cv.destroyAllWindows()\n",
    "print(f\"Gray scaler image shape: {gray.shape}\")\n",
    "\n",
    "hsv = cv.cvtColor(img, cv.COLOR_BGR2HSV)\n",
    "cv.imshow(\"hsv\", hsv)\n",
    "cv.waitKey(0)\n",
    "cv.destroyAllWindows()\n",
    "print(f\"HSV image shape: {hsv.shape}\")\n",
    "\n",
    "rgb = cv.cvtColor(img, cv.COLOR_BGR2RGB)\n",
    "cv.imshow(\"rgb\", rgb)\n",
    "cv.waitKey(0)\n",
    "cv.destroyAllWindows()\n",
    "print(f\"RGB image shape: {rgb.shape}\")"
   ]
  },
  {
   "cell_type": "code",
   "execution_count": 27,
   "metadata": {},
   "outputs": [],
   "source": [
    "# drawing functions - circle\n",
    "color = (0, 255, 0)\n",
    "thickness = 2\n",
    "radius = 50\n",
    "center = (200, 200)\n",
    "img = cv.imread(\"./data/car1.jpg\", cv.IMREAD_COLOR)\n",
    "\n",
    "cv.circle(img, center, radius, color, thickness)\n",
    "cv.circle(img, (300, 300), 50, (0, 0, 255), -1)\n",
    "cv.imshow(\"circle\", img)\n",
    "cv.waitKey(0)\n",
    "cv.destroyAllWindows()"
   ]
  },
  {
   "cell_type": "code",
   "execution_count": 25,
   "metadata": {},
   "outputs": [],
   "source": [
    "# drawing functions -line\n",
    "color = (0, 255, 0)\n",
    "canvas = np.zeros((500, 500, 3), dtype=\"uint8\") + 100\n",
    "\n",
    "cv.line(canvas, (0, 0), (500, 500), color, 5)\n",
    "\n",
    "cv.imshow(\"line\", canvas)\n",
    "cv.waitKey(0)\n",
    "cv.destroyAllWindows()\n"
   ]
  },
  {
   "cell_type": "code",
   "execution_count": 36,
   "metadata": {},
   "outputs": [],
   "source": [
    "# drawing functions - text\n",
    "\n",
    "\"\"\"\n",
    "--------------------------\n",
    "OPENCV FONT TYPES\n",
    "\n",
    "cv.FONT_HERSHEY_SIMPLEX\n",
    "cv.FONT_HERSHEY_PLAIN\n",
    "cv.FONT_HERSHEY_DUPLEX\n",
    "cv.FONT_HERSHEY_COMPLEX\n",
    "cv.FONT_HERSHEY_TRIPLEX\n",
    "cv.FONT_HERSHEY_COMPLEX_SMALL\n",
    "cv.FONT_HERSHEY_SCRIPT_SIMPLEX\n",
    "cv.FONT_HERSHEY_SCRIPT_COMPLEX\n",
    "--------------------------\n",
    "\n",
    "exp: cv.FONT_HERSHEY_SIMPLEX\n",
    "\"\"\"\n",
    "\n",
    "\n",
    "color = (0, 0, 255)\n",
    "font = cv.FONT_HERSHEY_SIMPLEX\n",
    "location = (50, 50)\n",
    "font_scale = 1\n",
    "thickness = 2\n",
    "\n",
    "\n",
    "canvas = (\n",
    "    np.zeros((500, 500, 3), dtype=\"uint8\") + 255\n",
    ")  # (..,..,..) is the color of the canvas and 255 is the intensity of the color\n",
    "\n",
    "cv.putText(canvas, \"Hello World\", location, font, font_scale, color, thickness)\n",
    "\n",
    "cv.imshow(\"text\", canvas)\n",
    "cv.waitKey(0)\n",
    "cv.destroyAllWindows()"
   ]
  },
  {
   "cell_type": "code",
   "execution_count": 9,
   "metadata": {},
   "outputs": [],
   "source": [
    "import cv2\n",
    "import numpy as np\n",
    "\n",
    "cap = cv2.VideoCapture(\n",
    "    0\n",
    ")  # 0 is the default camera if you have a video file you can pass the path of the video file\n",
    "\n",
    "while True:\n",
    "    ret, frame = cap.read()\n",
    "\n",
    "    resized_frame = cv2.resize(frame, (400, 350))\n",
    "\n",
    "    rbg = cv2.cvtColor(resized_frame, cv2.COLOR_BGR2RGB)\n",
    "    hsv = cv2.cvtColor(resized_frame, cv2.COLOR_BGR2HSV)\n",
    "    gray = cv2.cvtColor(resized_frame, cv2.COLOR_BGR2GRAY)\n",
    "\n",
    "    cv2.imshow(\"RGB\", rbg)q\n",
    "    cv2.imshow(\"frame\", resized_frame)\n",
    "    cv2.imshow(\"HSV\", hsv)\n",
    "    cv2.imshow(\"gray\", gray)\n",
    "    if cv2.waitKey(1) & 0xFF == ord(\"q\"):\n",
    "        break\n",
    "\n",
    "cap.release()\n",
    "cv2.destroyAllWindows()"
   ]
  },
  {
   "cell_type": "code",
   "execution_count": null,
   "metadata": {},
   "outputs": [],
   "source": []
  }
 ],
 "metadata": {
  "kernelspec": {
   "display_name": "base",
   "language": "python",
   "name": "python3"
  },
  "language_info": {
   "codemirror_mode": {
    "name": "ipython",
    "version": 3
   },
   "file_extension": ".py",
   "mimetype": "text/x-python",
   "name": "python",
   "nbconvert_exporter": "python",
   "pygments_lexer": "ipython3",
   "version": "3.10.13"
  }
 },
 "nbformat": 4,
 "nbformat_minor": 2
}
